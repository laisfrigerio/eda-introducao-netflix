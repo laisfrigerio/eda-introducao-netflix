{
 "cells": [
  {
   "cell_type": "markdown",
   "id": "93e0ad8c",
   "metadata": {},
   "source": [
    "# Netflix - Análise exploratória de dados"
   ]
  },
  {
   "cell_type": "code",
   "execution_count": 3,
   "id": "ffb73efd",
   "metadata": {},
   "outputs": [],
   "source": [
    "import pandas as pd\n",
    "import matplotlib.pyplot as plt"
   ]
  },
  {
   "cell_type": "markdown",
   "id": "adc09167",
   "metadata": {},
   "source": [
    "## Lendo arquivo CSV"
   ]
  },
  {
   "cell_type": "code",
   "execution_count": 4,
   "id": "a18d2166",
   "metadata": {},
   "outputs": [
    {
     "data": {
      "text/html": [
       "<div>\n",
       "<style scoped>\n",
       "    .dataframe tbody tr th:only-of-type {\n",
       "        vertical-align: middle;\n",
       "    }\n",
       "\n",
       "    .dataframe tbody tr th {\n",
       "        vertical-align: top;\n",
       "    }\n",
       "\n",
       "    .dataframe thead th {\n",
       "        text-align: right;\n",
       "    }\n",
       "</style>\n",
       "<table border=\"1\" class=\"dataframe\">\n",
       "  <thead>\n",
       "    <tr style=\"text-align: right;\">\n",
       "      <th></th>\n",
       "      <th>As of</th>\n",
       "      <th>Rank</th>\n",
       "      <th>Year to Date Rank</th>\n",
       "      <th>Last Week Rank</th>\n",
       "      <th>Title</th>\n",
       "      <th>Type</th>\n",
       "      <th>Netflix Exclusive</th>\n",
       "      <th>Netflix Release Date</th>\n",
       "      <th>Days In Top 10</th>\n",
       "      <th>Viewership Score</th>\n",
       "    </tr>\n",
       "  </thead>\n",
       "  <tbody>\n",
       "    <tr>\n",
       "      <th>0</th>\n",
       "      <td>2020-04-01</td>\n",
       "      <td>1</td>\n",
       "      <td>1</td>\n",
       "      <td>1</td>\n",
       "      <td>Tiger King: Murder, Mayhem …</td>\n",
       "      <td>TV Show</td>\n",
       "      <td>Yes</td>\n",
       "      <td>Mar 20, 2020</td>\n",
       "      <td>9</td>\n",
       "      <td>90</td>\n",
       "    </tr>\n",
       "    <tr>\n",
       "      <th>1</th>\n",
       "      <td>2020-04-01</td>\n",
       "      <td>2</td>\n",
       "      <td>2</td>\n",
       "      <td>-</td>\n",
       "      <td>Ozark</td>\n",
       "      <td>TV Show</td>\n",
       "      <td>Yes</td>\n",
       "      <td>Jul 21, 2017</td>\n",
       "      <td>5</td>\n",
       "      <td>45</td>\n",
       "    </tr>\n",
       "    <tr>\n",
       "      <th>2</th>\n",
       "      <td>2020-04-01</td>\n",
       "      <td>3</td>\n",
       "      <td>3</td>\n",
       "      <td>2</td>\n",
       "      <td>All American</td>\n",
       "      <td>TV Show</td>\n",
       "      <td>NaN</td>\n",
       "      <td>Mar 28, 2019</td>\n",
       "      <td>9</td>\n",
       "      <td>76</td>\n",
       "    </tr>\n",
       "    <tr>\n",
       "      <th>3</th>\n",
       "      <td>2020-04-01</td>\n",
       "      <td>4</td>\n",
       "      <td>4</td>\n",
       "      <td>-</td>\n",
       "      <td>Blood Father</td>\n",
       "      <td>Movie</td>\n",
       "      <td>NaN</td>\n",
       "      <td>Mar 26, 2020</td>\n",
       "      <td>5</td>\n",
       "      <td>30</td>\n",
       "    </tr>\n",
       "    <tr>\n",
       "      <th>4</th>\n",
       "      <td>2020-04-01</td>\n",
       "      <td>5</td>\n",
       "      <td>5</td>\n",
       "      <td>4</td>\n",
       "      <td>The Platform</td>\n",
       "      <td>Movie</td>\n",
       "      <td>Yes</td>\n",
       "      <td>Mar 20, 2020</td>\n",
       "      <td>9</td>\n",
       "      <td>55</td>\n",
       "    </tr>\n",
       "    <tr>\n",
       "      <th>...</th>\n",
       "      <td>...</td>\n",
       "      <td>...</td>\n",
       "      <td>...</td>\n",
       "      <td>...</td>\n",
       "      <td>...</td>\n",
       "      <td>...</td>\n",
       "      <td>...</td>\n",
       "      <td>...</td>\n",
       "      <td>...</td>\n",
       "      <td>...</td>\n",
       "    </tr>\n",
       "    <tr>\n",
       "      <th>7095</th>\n",
       "      <td>2022-03-11</td>\n",
       "      <td>6</td>\n",
       "      <td>5</td>\n",
       "      <td>1</td>\n",
       "      <td>Worst Roommate Ever</td>\n",
       "      <td>TV Show</td>\n",
       "      <td>Yes</td>\n",
       "      <td>Mar 1, 2022</td>\n",
       "      <td>10</td>\n",
       "      <td>81</td>\n",
       "    </tr>\n",
       "    <tr>\n",
       "      <th>7096</th>\n",
       "      <td>2022-03-11</td>\n",
       "      <td>7</td>\n",
       "      <td>7</td>\n",
       "      <td>2</td>\n",
       "      <td>Vikings: Valhalla</td>\n",
       "      <td>TV Show</td>\n",
       "      <td>Yes</td>\n",
       "      <td>Feb 25, 2022</td>\n",
       "      <td>14</td>\n",
       "      <td>100</td>\n",
       "    </tr>\n",
       "    <tr>\n",
       "      <th>7097</th>\n",
       "      <td>2022-03-11</td>\n",
       "      <td>8</td>\n",
       "      <td>8</td>\n",
       "      <td>-</td>\n",
       "      <td>Shooter</td>\n",
       "      <td>Movie</td>\n",
       "      <td>NaN</td>\n",
       "      <td>Aug 1, 2014</td>\n",
       "      <td>3</td>\n",
       "      <td>7</td>\n",
       "    </tr>\n",
       "    <tr>\n",
       "      <th>7098</th>\n",
       "      <td>2022-03-11</td>\n",
       "      <td>9</td>\n",
       "      <td>9</td>\n",
       "      <td>7</td>\n",
       "      <td>Shrek 2</td>\n",
       "      <td>Movie</td>\n",
       "      <td>NaN</td>\n",
       "      <td>Mar 1, 2022</td>\n",
       "      <td>10</td>\n",
       "      <td>33</td>\n",
       "    </tr>\n",
       "    <tr>\n",
       "      <th>7099</th>\n",
       "      <td>2022-03-11</td>\n",
       "      <td>10</td>\n",
       "      <td>10</td>\n",
       "      <td>-</td>\n",
       "      <td>Shrek</td>\n",
       "      <td>Movie</td>\n",
       "      <td>NaN</td>\n",
       "      <td>May 1, 2018</td>\n",
       "      <td>7</td>\n",
       "      <td>12</td>\n",
       "    </tr>\n",
       "  </tbody>\n",
       "</table>\n",
       "<p>7100 rows × 10 columns</p>\n",
       "</div>"
      ],
      "text/plain": [
       "           As of  Rank Year to Date Rank Last Week Rank  \\\n",
       "0     2020-04-01     1                 1              1   \n",
       "1     2020-04-01     2                 2              -   \n",
       "2     2020-04-01     3                 3              2   \n",
       "3     2020-04-01     4                 4              -   \n",
       "4     2020-04-01     5                 5              4   \n",
       "...          ...   ...               ...            ...   \n",
       "7095  2022-03-11     6                 5              1   \n",
       "7096  2022-03-11     7                 7              2   \n",
       "7097  2022-03-11     8                 8              -   \n",
       "7098  2022-03-11     9                 9              7   \n",
       "7099  2022-03-11    10                10              -   \n",
       "\n",
       "                             Title     Type Netflix Exclusive  \\\n",
       "0     Tiger King: Murder, Mayhem …  TV Show               Yes   \n",
       "1                            Ozark  TV Show               Yes   \n",
       "2                     All American  TV Show               NaN   \n",
       "3                     Blood Father    Movie               NaN   \n",
       "4                     The Platform    Movie               Yes   \n",
       "...                            ...      ...               ...   \n",
       "7095           Worst Roommate Ever  TV Show               Yes   \n",
       "7096             Vikings: Valhalla  TV Show               Yes   \n",
       "7097                       Shooter    Movie               NaN   \n",
       "7098                       Shrek 2    Movie               NaN   \n",
       "7099                         Shrek    Movie               NaN   \n",
       "\n",
       "     Netflix Release Date  Days In Top 10  Viewership Score  \n",
       "0            Mar 20, 2020               9                90  \n",
       "1            Jul 21, 2017               5                45  \n",
       "2            Mar 28, 2019               9                76  \n",
       "3            Mar 26, 2020               5                30  \n",
       "4            Mar 20, 2020               9                55  \n",
       "...                   ...             ...               ...  \n",
       "7095          Mar 1, 2022              10                81  \n",
       "7096         Feb 25, 2022              14               100  \n",
       "7097          Aug 1, 2014               3                 7  \n",
       "7098          Mar 1, 2022              10                33  \n",
       "7099          May 1, 2018               7                12  \n",
       "\n",
       "[7100 rows x 10 columns]"
      ]
     },
     "execution_count": 4,
     "metadata": {},
     "output_type": "execute_result"
    }
   ],
   "source": [
    "df_netflix = pd.read_csv(\"netflix_daily_top_10.csv\")\n",
    "df_netflix"
   ]
  },
  {
   "cell_type": "markdown",
   "id": "6c93f6ba",
   "metadata": {},
   "source": [
    "## Schema details"
   ]
  },
  {
   "cell_type": "code",
   "execution_count": 5,
   "id": "b67e7ac1",
   "metadata": {},
   "outputs": [
    {
     "name": "stdout",
     "output_type": "stream",
     "text": [
      "<class 'pandas.core.frame.DataFrame'>\n",
      "RangeIndex: 7100 entries, 0 to 7099\n",
      "Data columns (total 10 columns):\n",
      " #   Column                Non-Null Count  Dtype \n",
      "---  ------                --------------  ----- \n",
      " 0   As of                 7100 non-null   object\n",
      " 1   Rank                  7100 non-null   int64 \n",
      " 2   Year to Date Rank     7100 non-null   object\n",
      " 3   Last Week Rank        7100 non-null   object\n",
      " 4   Title                 7100 non-null   object\n",
      " 5   Type                  7100 non-null   object\n",
      " 6   Netflix Exclusive     4599 non-null   object\n",
      " 7   Netflix Release Date  7100 non-null   object\n",
      " 8   Days In Top 10        7100 non-null   int64 \n",
      " 9   Viewership Score      7100 non-null   int64 \n",
      "dtypes: int64(3), object(7)\n",
      "memory usage: 554.8+ KB\n"
     ]
    }
   ],
   "source": [
    "df_netflix.info()"
   ]
  },
  {
   "cell_type": "markdown",
   "id": "910fc441",
   "metadata": {},
   "source": [
    "## Dados estatísticos - Geral"
   ]
  },
  {
   "cell_type": "code",
   "execution_count": 6,
   "id": "411ef5b3",
   "metadata": {},
   "outputs": [
    {
     "data": {
      "text/html": [
       "<div>\n",
       "<style scoped>\n",
       "    .dataframe tbody tr th:only-of-type {\n",
       "        vertical-align: middle;\n",
       "    }\n",
       "\n",
       "    .dataframe tbody tr th {\n",
       "        vertical-align: top;\n",
       "    }\n",
       "\n",
       "    .dataframe thead th {\n",
       "        text-align: right;\n",
       "    }\n",
       "</style>\n",
       "<table border=\"1\" class=\"dataframe\">\n",
       "  <thead>\n",
       "    <tr style=\"text-align: right;\">\n",
       "      <th></th>\n",
       "      <th>Rank</th>\n",
       "      <th>Days In Top 10</th>\n",
       "      <th>Viewership Score</th>\n",
       "    </tr>\n",
       "  </thead>\n",
       "  <tbody>\n",
       "    <tr>\n",
       "      <th>count</th>\n",
       "      <td>7100.000000</td>\n",
       "      <td>7100.000000</td>\n",
       "      <td>7100.000000</td>\n",
       "    </tr>\n",
       "    <tr>\n",
       "      <th>mean</th>\n",
       "      <td>5.500000</td>\n",
       "      <td>24.123662</td>\n",
       "      <td>122.790141</td>\n",
       "    </tr>\n",
       "    <tr>\n",
       "      <th>std</th>\n",
       "      <td>2.872484</td>\n",
       "      <td>58.473789</td>\n",
       "      <td>213.861642</td>\n",
       "    </tr>\n",
       "    <tr>\n",
       "      <th>min</th>\n",
       "      <td>1.000000</td>\n",
       "      <td>1.000000</td>\n",
       "      <td>1.000000</td>\n",
       "    </tr>\n",
       "    <tr>\n",
       "      <th>25%</th>\n",
       "      <td>3.000000</td>\n",
       "      <td>3.000000</td>\n",
       "      <td>19.000000</td>\n",
       "    </tr>\n",
       "    <tr>\n",
       "      <th>50%</th>\n",
       "      <td>5.500000</td>\n",
       "      <td>7.000000</td>\n",
       "      <td>50.000000</td>\n",
       "    </tr>\n",
       "    <tr>\n",
       "      <th>75%</th>\n",
       "      <td>8.000000</td>\n",
       "      <td>18.000000</td>\n",
       "      <td>128.000000</td>\n",
       "    </tr>\n",
       "    <tr>\n",
       "      <th>max</th>\n",
       "      <td>10.000000</td>\n",
       "      <td>428.000000</td>\n",
       "      <td>1474.000000</td>\n",
       "    </tr>\n",
       "  </tbody>\n",
       "</table>\n",
       "</div>"
      ],
      "text/plain": [
       "              Rank  Days In Top 10  Viewership Score\n",
       "count  7100.000000     7100.000000       7100.000000\n",
       "mean      5.500000       24.123662        122.790141\n",
       "std       2.872484       58.473789        213.861642\n",
       "min       1.000000        1.000000          1.000000\n",
       "25%       3.000000        3.000000         19.000000\n",
       "50%       5.500000        7.000000         50.000000\n",
       "75%       8.000000       18.000000        128.000000\n",
       "max      10.000000      428.000000       1474.000000"
      ]
     },
     "execution_count": 6,
     "metadata": {},
     "output_type": "execute_result"
    }
   ],
   "source": [
    "df_netflix.describe()"
   ]
  },
  {
   "cell_type": "markdown",
   "id": "835609b7",
   "metadata": {},
   "source": [
    "## Dados estatísticos - Total por variável"
   ]
  },
  {
   "cell_type": "code",
   "execution_count": 7,
   "id": "bd2f7df6",
   "metadata": {},
   "outputs": [
    {
     "data": {
      "text/plain": [
       "As of                   7100\n",
       "Rank                    7100\n",
       "Year to Date Rank       7100\n",
       "Last Week Rank          7100\n",
       "Title                   7100\n",
       "Type                    7100\n",
       "Netflix Exclusive       4599\n",
       "Netflix Release Date    7100\n",
       "Days In Top 10          7100\n",
       "Viewership Score        7100\n",
       "dtype: int64"
      ]
     },
     "execution_count": 7,
     "metadata": {},
     "output_type": "execute_result"
    }
   ],
   "source": [
    "df_netflix.count()"
   ]
  },
  {
   "cell_type": "markdown",
   "id": "2916d5ba",
   "metadata": {},
   "source": [
    "## Agrupamento\n",
    "\n",
    "### Coluna - Type"
   ]
  },
  {
   "cell_type": "code",
   "execution_count": 8,
   "id": "a8c016d7",
   "metadata": {},
   "outputs": [
    {
     "data": {
      "text/html": [
       "<div>\n",
       "<style scoped>\n",
       "    .dataframe tbody tr th:only-of-type {\n",
       "        vertical-align: middle;\n",
       "    }\n",
       "\n",
       "    .dataframe tbody tr th {\n",
       "        vertical-align: top;\n",
       "    }\n",
       "\n",
       "    .dataframe thead th {\n",
       "        text-align: right;\n",
       "    }\n",
       "</style>\n",
       "<table border=\"1\" class=\"dataframe\">\n",
       "  <thead>\n",
       "    <tr style=\"text-align: right;\">\n",
       "      <th></th>\n",
       "      <th>As of</th>\n",
       "      <th>Rank</th>\n",
       "      <th>Year to Date Rank</th>\n",
       "      <th>Last Week Rank</th>\n",
       "      <th>Title</th>\n",
       "      <th>Netflix Exclusive</th>\n",
       "      <th>Netflix Release Date</th>\n",
       "      <th>Days In Top 10</th>\n",
       "      <th>Viewership Score</th>\n",
       "    </tr>\n",
       "    <tr>\n",
       "      <th>Type</th>\n",
       "      <th></th>\n",
       "      <th></th>\n",
       "      <th></th>\n",
       "      <th></th>\n",
       "      <th></th>\n",
       "      <th></th>\n",
       "      <th></th>\n",
       "      <th></th>\n",
       "      <th></th>\n",
       "    </tr>\n",
       "  </thead>\n",
       "  <tbody>\n",
       "    <tr>\n",
       "      <th>Concert/Perf…</th>\n",
       "      <td>2</td>\n",
       "      <td>2</td>\n",
       "      <td>2</td>\n",
       "      <td>2</td>\n",
       "      <td>2</td>\n",
       "      <td>2</td>\n",
       "      <td>2</td>\n",
       "      <td>2</td>\n",
       "      <td>2</td>\n",
       "    </tr>\n",
       "    <tr>\n",
       "      <th>Movie</th>\n",
       "      <td>2611</td>\n",
       "      <td>2611</td>\n",
       "      <td>2611</td>\n",
       "      <td>2611</td>\n",
       "      <td>2611</td>\n",
       "      <td>1469</td>\n",
       "      <td>2611</td>\n",
       "      <td>2611</td>\n",
       "      <td>2611</td>\n",
       "    </tr>\n",
       "    <tr>\n",
       "      <th>Stand-Up Comedy</th>\n",
       "      <td>41</td>\n",
       "      <td>41</td>\n",
       "      <td>41</td>\n",
       "      <td>41</td>\n",
       "      <td>41</td>\n",
       "      <td>41</td>\n",
       "      <td>41</td>\n",
       "      <td>41</td>\n",
       "      <td>41</td>\n",
       "    </tr>\n",
       "    <tr>\n",
       "      <th>TV Show</th>\n",
       "      <td>4446</td>\n",
       "      <td>4446</td>\n",
       "      <td>4446</td>\n",
       "      <td>4446</td>\n",
       "      <td>4446</td>\n",
       "      <td>3087</td>\n",
       "      <td>4446</td>\n",
       "      <td>4446</td>\n",
       "      <td>4446</td>\n",
       "    </tr>\n",
       "  </tbody>\n",
       "</table>\n",
       "</div>"
      ],
      "text/plain": [
       "                 As of  Rank  Year to Date Rank  Last Week Rank  Title  \\\n",
       "Type                                                                     \n",
       "Concert/Perf…        2     2                  2               2      2   \n",
       "Movie             2611  2611               2611            2611   2611   \n",
       "Stand-Up Comedy     41    41                 41              41     41   \n",
       "TV Show           4446  4446               4446            4446   4446   \n",
       "\n",
       "                 Netflix Exclusive  Netflix Release Date  Days In Top 10  \\\n",
       "Type                                                                       \n",
       "Concert/Perf…                    2                     2               2   \n",
       "Movie                         1469                  2611            2611   \n",
       "Stand-Up Comedy                 41                    41              41   \n",
       "TV Show                       3087                  4446            4446   \n",
       "\n",
       "                 Viewership Score  \n",
       "Type                               \n",
       "Concert/Perf…                   2  \n",
       "Movie                        2611  \n",
       "Stand-Up Comedy                41  \n",
       "TV Show                      4446  "
      ]
     },
     "execution_count": 8,
     "metadata": {},
     "output_type": "execute_result"
    }
   ],
   "source": [
    "df_netflix.groupby(\"Type\").count()"
   ]
  },
  {
   "cell_type": "markdown",
   "id": "a59c1b14",
   "metadata": {},
   "source": [
    "### Coluna - Netflix Exclusive\n",
    "\n",
    "A coluna \"Netflix Exclusive\" possui valores `NaN`. Total de 2.501."
   ]
  },
  {
   "cell_type": "code",
   "execution_count": 9,
   "id": "9e49ecee",
   "metadata": {},
   "outputs": [
    {
     "data": {
      "text/plain": [
       "np.int64(2501)"
      ]
     },
     "execution_count": 9,
     "metadata": {},
     "output_type": "execute_result"
    }
   ],
   "source": [
    "df_netflix[\"Netflix Exclusive\"].isna().sum()"
   ]
  },
  {
   "cell_type": "markdown",
   "id": "865acb38",
   "metadata": {},
   "source": [
    "Já o total de `Yes` são `4599`, totalizando 7.100 registros - o número total de linhas do dataset.\n",
    "\n",
    "Podemos então assumir que os registros que possuem `NaN` são registros que não são exclusivos da Netflix."
   ]
  },
  {
   "cell_type": "code",
   "execution_count": 10,
   "id": "35824afc",
   "metadata": {},
   "outputs": [
    {
     "data": {
      "text/html": [
       "<div>\n",
       "<style scoped>\n",
       "    .dataframe tbody tr th:only-of-type {\n",
       "        vertical-align: middle;\n",
       "    }\n",
       "\n",
       "    .dataframe tbody tr th {\n",
       "        vertical-align: top;\n",
       "    }\n",
       "\n",
       "    .dataframe thead th {\n",
       "        text-align: right;\n",
       "    }\n",
       "</style>\n",
       "<table border=\"1\" class=\"dataframe\">\n",
       "  <thead>\n",
       "    <tr style=\"text-align: right;\">\n",
       "      <th></th>\n",
       "      <th>As of</th>\n",
       "      <th>Rank</th>\n",
       "      <th>Year to Date Rank</th>\n",
       "      <th>Last Week Rank</th>\n",
       "      <th>Title</th>\n",
       "      <th>Type</th>\n",
       "      <th>Netflix Release Date</th>\n",
       "      <th>Days In Top 10</th>\n",
       "      <th>Viewership Score</th>\n",
       "    </tr>\n",
       "    <tr>\n",
       "      <th>Netflix Exclusive</th>\n",
       "      <th></th>\n",
       "      <th></th>\n",
       "      <th></th>\n",
       "      <th></th>\n",
       "      <th></th>\n",
       "      <th></th>\n",
       "      <th></th>\n",
       "      <th></th>\n",
       "      <th></th>\n",
       "    </tr>\n",
       "  </thead>\n",
       "  <tbody>\n",
       "    <tr>\n",
       "      <th>Yes</th>\n",
       "      <td>4599</td>\n",
       "      <td>4599</td>\n",
       "      <td>4599</td>\n",
       "      <td>4599</td>\n",
       "      <td>4599</td>\n",
       "      <td>4599</td>\n",
       "      <td>4599</td>\n",
       "      <td>4599</td>\n",
       "      <td>4599</td>\n",
       "    </tr>\n",
       "  </tbody>\n",
       "</table>\n",
       "</div>"
      ],
      "text/plain": [
       "                   As of  Rank  Year to Date Rank  Last Week Rank  Title  \\\n",
       "Netflix Exclusive                                                          \n",
       "Yes                 4599  4599               4599            4599   4599   \n",
       "\n",
       "                   Type  Netflix Release Date  Days In Top 10  \\\n",
       "Netflix Exclusive                                               \n",
       "Yes                4599                  4599            4599   \n",
       "\n",
       "                   Viewership Score  \n",
       "Netflix Exclusive                    \n",
       "Yes                            4599  "
      ]
     },
     "execution_count": 10,
     "metadata": {},
     "output_type": "execute_result"
    }
   ],
   "source": [
    "df_netflix.groupby(\"Netflix Exclusive\").count()"
   ]
  },
  {
   "cell_type": "markdown",
   "id": "ec2ce897",
   "metadata": {},
   "source": [
    "Vamos fazer uma edição em lote e trocar `NaN` por `No`:"
   ]
  },
  {
   "cell_type": "code",
   "execution_count": 11,
   "id": "2bad7422",
   "metadata": {},
   "outputs": [
    {
     "name": "stderr",
     "output_type": "stream",
     "text": [
      "/var/folders/qp/skrztx8x5bsd_zvdsjwfxlhr0000gn/T/ipykernel_3426/3602154729.py:1: FutureWarning: A value is trying to be set on a copy of a DataFrame or Series through chained assignment using an inplace method.\n",
      "The behavior will change in pandas 3.0. This inplace method will never work because the intermediate object on which we are setting values always behaves as a copy.\n",
      "\n",
      "For example, when doing 'df[col].method(value, inplace=True)', try using 'df.method({col: value}, inplace=True)' or df[col] = df[col].method(value) instead, to perform the operation inplace on the original object.\n",
      "\n",
      "\n",
      "  df_netflix[\"Netflix Exclusive\"].fillna(\"No\", inplace=True)\n"
     ]
    }
   ],
   "source": [
    "df_netflix[\"Netflix Exclusive\"].fillna(\"No\", inplace=True)"
   ]
  },
  {
   "cell_type": "markdown",
   "id": "9cdebb76",
   "metadata": {},
   "source": [
    "Agora todas as colunas devem ter 7.100 registros:"
   ]
  },
  {
   "cell_type": "code",
   "execution_count": 12,
   "id": "7ef0a75b",
   "metadata": {},
   "outputs": [
    {
     "name": "stdout",
     "output_type": "stream",
     "text": [
      "<class 'pandas.core.frame.DataFrame'>\n",
      "RangeIndex: 7100 entries, 0 to 7099\n",
      "Data columns (total 10 columns):\n",
      " #   Column                Non-Null Count  Dtype \n",
      "---  ------                --------------  ----- \n",
      " 0   As of                 7100 non-null   object\n",
      " 1   Rank                  7100 non-null   int64 \n",
      " 2   Year to Date Rank     7100 non-null   object\n",
      " 3   Last Week Rank        7100 non-null   object\n",
      " 4   Title                 7100 non-null   object\n",
      " 5   Type                  7100 non-null   object\n",
      " 6   Netflix Exclusive     7100 non-null   object\n",
      " 7   Netflix Release Date  7100 non-null   object\n",
      " 8   Days In Top 10        7100 non-null   int64 \n",
      " 9   Viewership Score      7100 non-null   int64 \n",
      "dtypes: int64(3), object(7)\n",
      "memory usage: 554.8+ KB\n"
     ]
    }
   ],
   "source": [
    "df_netflix.info()"
   ]
  },
  {
   "cell_type": "markdown",
   "id": "a9856add",
   "metadata": {},
   "source": [
    "## Distribuição"
   ]
  },
  {
   "cell_type": "code",
   "execution_count": 15,
   "id": "0f1dbad6",
   "metadata": {},
   "outputs": [
    {
     "data": {
      "text/plain": [
       "<Axes: title={'center': 'Netflix Exclusive Content'}>"
      ]
     },
     "execution_count": 15,
     "metadata": {},
     "output_type": "execute_result"
    },
    {
     "data": {
      "image/png": "[encoded data removed]",
      "text/plain": [
       "<Figure size 1000x500 with 1 Axes>"
      ]
     },
     "metadata": {},
     "output_type": "display_data"
    }
   ],
   "source": [
    "df_netflix.groupby(\"Netflix Exclusive\").size().plot.pie(\n",
    "    title=\"Netflix Exclusive Content\", \n",
    "    figsize=(10, 5),\n",
    "    autopct='%1.2f%%'\n",
    ")"
   ]
  },
  {
   "cell_type": "markdown",
   "id": "ed84ae60",
   "metadata": {},
   "source": [
    "## Hipótese #1: Títulos exclusivos netflix possuem melhor nota?"
   ]
  },
  {
   "cell_type": "code",
   "execution_count": 18,
   "id": "46138b9b",
   "metadata": {},
   "outputs": [],
   "source": [
    "df_titulos_score = df_netflix.groupby(\"Netflix Exclusive\")[\"Viewership Score\"]"
   ]
  },
  {
   "cell_type": "markdown",
   "id": "997961ff",
   "metadata": {},
   "source": [
    "### Média por grupo"
   ]
  },
  {
   "cell_type": "code",
   "execution_count": 19,
   "id": "3c7e10dd",
   "metadata": {},
   "outputs": [
    {
     "data": {
      "text/plain": [
       "Netflix Exclusive\n",
       "No     185.542583\n",
       "Yes     88.664492\n",
       "Name: Viewership Score, dtype: float64"
      ]
     },
     "execution_count": 19,
     "metadata": {},
     "output_type": "execute_result"
    }
   ],
   "source": [
    "df_titulos_score.mean()"
   ]
  },
  {
   "cell_type": "markdown",
   "id": "6467e9c8",
   "metadata": {},
   "source": [
    "### Mediana por grupo"
   ]
  },
  {
   "cell_type": "code",
   "execution_count": 20,
   "id": "9269f265",
   "metadata": {},
   "outputs": [
    {
     "data": {
      "text/plain": [
       "Netflix Exclusive\n",
       "No     44.0\n",
       "Yes    53.0\n",
       "Name: Viewership Score, dtype: float64"
      ]
     },
     "execution_count": 20,
     "metadata": {},
     "output_type": "execute_result"
    }
   ],
   "source": [
    "df_titulos_score.median()"
   ]
  },
  {
   "cell_type": "markdown",
   "id": "2fd4dfad",
   "metadata": {},
   "source": [
    "### Moda por grupo"
   ]
  },
  {
   "cell_type": "code",
   "execution_count": 27,
   "id": "ee4091ae",
   "metadata": {},
   "outputs": [
    {
     "data": {
      "text/plain": [
       "Netflix Exclusive\n",
       "No      4\n",
       "Yes    10\n",
       "Name: Viewership Score, dtype: int64"
      ]
     },
     "execution_count": 27,
     "metadata": {},
     "output_type": "execute_result"
    }
   ],
   "source": [
    "df_titulos_score.apply(lambda x: x.mode().iloc[0] if not x.mode().empty else None)"
   ]
  },
  {
   "cell_type": "markdown",
   "id": "e145633b",
   "metadata": {},
   "source": [
    "### Desvio padrão por grupo"
   ]
  },
  {
   "cell_type": "code",
   "execution_count": 28,
   "id": "31eba251",
   "metadata": {},
   "outputs": [
    {
     "data": {
      "text/plain": [
       "Netflix Exclusive\n",
       "No     325.928621\n",
       "Yes     97.720286\n",
       "Name: Viewership Score, dtype: float64"
      ]
     },
     "execution_count": 28,
     "metadata": {},
     "output_type": "execute_result"
    }
   ],
   "source": [
    "df_titulos_score.std()"
   ]
  },
  {
   "cell_type": "markdown",
   "id": "17d6394c",
   "metadata": {},
   "source": [
    "### Mínimo por grupo"
   ]
  },
  {
   "cell_type": "code",
   "execution_count": 29,
   "id": "0685b9c7",
   "metadata": {},
   "outputs": [
    {
     "data": {
      "text/plain": [
       "Netflix Exclusive\n",
       "No     1\n",
       "Yes    1\n",
       "Name: Viewership Score, dtype: int64"
      ]
     },
     "execution_count": 29,
     "metadata": {},
     "output_type": "execute_result"
    }
   ],
   "source": [
    "df_titulos_score.min()"
   ]
  },
  {
   "cell_type": "markdown",
   "id": "203674e7",
   "metadata": {},
   "source": [
    "### Máximo por grupo"
   ]
  },
  {
   "cell_type": "code",
   "execution_count": 30,
   "id": "361ceb81",
   "metadata": {},
   "outputs": [
    {
     "data": {
      "text/plain": [
       "Netflix Exclusive\n",
       "No     1474\n",
       "Yes     536\n",
       "Name: Viewership Score, dtype: int64"
      ]
     },
     "execution_count": 30,
     "metadata": {},
     "output_type": "execute_result"
    }
   ],
   "source": [
    "df_titulos_score.max()"
   ]
  },
  {
   "cell_type": "markdown",
   "id": "b7d27e2c",
   "metadata": {},
   "source": [
    "### Gráfico Boxplot"
   ]
  },
  {
   "cell_type": "code",
   "execution_count": 31,
   "id": "f0faee5a",
   "metadata": {},
   "outputs": [
    {
     "data": {
      "text/plain": [
       "<Axes: title={'center': 'Viewership Score'}, xlabel='Netflix Exclusive'>"
      ]
     },
     "execution_count": 31,
     "metadata": {},
     "output_type": "execute_result"
    },
    {
     "data": {
      "image/png": "[encoded data removed]",
      "text/plain": [
       "<Figure size 800x500 with 1 Axes>"
      ]
     },
     "metadata": {},
     "output_type": "display_data"
    }
   ],
   "source": [
    "df_netflix.boxplot(\n",
    "    column=\"Viewership Score\",\n",
    "    by=\"Netflix Exclusive\",\n",
    "    figsize=(8, 5),\n",
    "    grid=False\n",
    ")"
   ]
  },
  {
   "cell_type": "markdown",
   "id": "e93d1cb0",
   "metadata": {},
   "source": [
    "## Análise\n",
    "\n",
    "### 1. Dispersão muito maior entre os conteúdos não exclusivos\n",
    "\n",
    "- O grupo \"No\" (não exclusivos) tem uma distribuição muito mais espalhada, com valores extremos (outliers) que chegam acima de 1400 pontos.\n",
    "\n",
    "- Isso indica que alguns conteúdos não exclusivos têm audiência extraordinariamente alta, puxando a cauda da distribuição.\n",
    "\n",
    "### 2. Score mais estável (e concentrado) entre os exclusivos\n",
    "\n",
    "- O grupo \"Yes\" (exclusivos da Netflix) tem uma distribuição mais compacta, com menos outliers e menor variabilidade.\n",
    "\n",
    "- O score dos exclusivos está mais concentrado entre 0 e ~150, com alguns outliers até ~450.\n",
    "\n",
    "### 3. Mediana maior nos conteúdos exclusivos\n",
    "\n",
    "- Visualmente, a linha da mediana (linha dentro da caixa) dos conteúdos exclusivos parece mais alta que a dos não exclusivos.\n",
    "\n",
    "- Isso sugere que, embora os não exclusivos tenham alguns conteúdos com altíssimo desempenho, em média, os exclusivos da Netflix tendem a performar melhor.\n",
    "\n",
    "### 4. Outliers dos não exclusivos são dominantes\n",
    "\n",
    "- A quantidade de outliers (pontos pretos) entre os não exclusivos é altíssima.\n",
    "\n",
    "- Isso pode indicar que há muitos conteúdos medianos ou fracos, mas alguns poucos extremamente populares "
   ]
  },
  {
   "cell_type": "markdown",
   "id": "06e3511a",
   "metadata": {},
   "source": [
    "**Filtrar os títulos não exclusivos:**"
   ]
  },
  {
   "cell_type": "code",
   "execution_count": 34,
   "id": "1304913c",
   "metadata": {},
   "outputs": [
    {
     "data": {
      "text/html": [
       "<div>\n",
       "<style scoped>\n",
       "    .dataframe tbody tr th:only-of-type {\n",
       "        vertical-align: middle;\n",
       "    }\n",
       "\n",
       "    .dataframe tbody tr th {\n",
       "        vertical-align: top;\n",
       "    }\n",
       "\n",
       "    .dataframe thead th {\n",
       "        text-align: right;\n",
       "    }\n",
       "</style>\n",
       "<table border=\"1\" class=\"dataframe\">\n",
       "  <thead>\n",
       "    <tr style=\"text-align: right;\">\n",
       "      <th></th>\n",
       "      <th>As of</th>\n",
       "      <th>Rank</th>\n",
       "      <th>Year to Date Rank</th>\n",
       "      <th>Last Week Rank</th>\n",
       "      <th>Title</th>\n",
       "      <th>Type</th>\n",
       "      <th>Netflix Exclusive</th>\n",
       "      <th>Netflix Release Date</th>\n",
       "      <th>Days In Top 10</th>\n",
       "      <th>Viewership Score</th>\n",
       "    </tr>\n",
       "  </thead>\n",
       "  <tbody>\n",
       "    <tr>\n",
       "      <th>2</th>\n",
       "      <td>2020-04-01</td>\n",
       "      <td>3</td>\n",
       "      <td>3</td>\n",
       "      <td>2</td>\n",
       "      <td>All American</td>\n",
       "      <td>TV Show</td>\n",
       "      <td>No</td>\n",
       "      <td>Mar 28, 2019</td>\n",
       "      <td>9</td>\n",
       "      <td>76</td>\n",
       "    </tr>\n",
       "    <tr>\n",
       "      <th>3</th>\n",
       "      <td>2020-04-01</td>\n",
       "      <td>4</td>\n",
       "      <td>4</td>\n",
       "      <td>-</td>\n",
       "      <td>Blood Father</td>\n",
       "      <td>Movie</td>\n",
       "      <td>No</td>\n",
       "      <td>Mar 26, 2020</td>\n",
       "      <td>5</td>\n",
       "      <td>30</td>\n",
       "    </tr>\n",
       "    <tr>\n",
       "      <th>8</th>\n",
       "      <td>2020-04-01</td>\n",
       "      <td>9</td>\n",
       "      <td>8</td>\n",
       "      <td>-</td>\n",
       "      <td>Badland</td>\n",
       "      <td>Movie</td>\n",
       "      <td>No</td>\n",
       "      <td>Mar 26, 2020</td>\n",
       "      <td>4</td>\n",
       "      <td>11</td>\n",
       "    </tr>\n",
       "    <tr>\n",
       "      <th>12</th>\n",
       "      <td>2020-04-02</td>\n",
       "      <td>3</td>\n",
       "      <td>3</td>\n",
       "      <td>2</td>\n",
       "      <td>All American</td>\n",
       "      <td>TV Show</td>\n",
       "      <td>No</td>\n",
       "      <td>Mar 28, 2019</td>\n",
       "      <td>10</td>\n",
       "      <td>84</td>\n",
       "    </tr>\n",
       "    <tr>\n",
       "      <th>15</th>\n",
       "      <td>2020-04-02</td>\n",
       "      <td>6</td>\n",
       "      <td>4</td>\n",
       "      <td>-</td>\n",
       "      <td>Blood Father</td>\n",
       "      <td>Movie</td>\n",
       "      <td>No</td>\n",
       "      <td>Mar 26, 2020</td>\n",
       "      <td>6</td>\n",
       "      <td>35</td>\n",
       "    </tr>\n",
       "    <tr>\n",
       "      <th>...</th>\n",
       "      <td>...</td>\n",
       "      <td>...</td>\n",
       "      <td>...</td>\n",
       "      <td>...</td>\n",
       "      <td>...</td>\n",
       "      <td>...</td>\n",
       "      <td>...</td>\n",
       "      <td>...</td>\n",
       "      <td>...</td>\n",
       "      <td>...</td>\n",
       "    </tr>\n",
       "    <tr>\n",
       "      <th>7090</th>\n",
       "      <td>2022-03-11</td>\n",
       "      <td>1</td>\n",
       "      <td>2</td>\n",
       "      <td>-</td>\n",
       "      <td>The Last Kingdom</td>\n",
       "      <td>TV Show</td>\n",
       "      <td>No</td>\n",
       "      <td>Jul 10, 2016</td>\n",
       "      <td>13</td>\n",
       "      <td>62</td>\n",
       "    </tr>\n",
       "    <tr>\n",
       "      <th>7092</th>\n",
       "      <td>2022-03-11</td>\n",
       "      <td>3</td>\n",
       "      <td>3</td>\n",
       "      <td>-</td>\n",
       "      <td>Good Girls</td>\n",
       "      <td>TV Show</td>\n",
       "      <td>No</td>\n",
       "      <td>Jan 1, 2019</td>\n",
       "      <td>26</td>\n",
       "      <td>149</td>\n",
       "    </tr>\n",
       "    <tr>\n",
       "      <th>7097</th>\n",
       "      <td>2022-03-11</td>\n",
       "      <td>8</td>\n",
       "      <td>8</td>\n",
       "      <td>-</td>\n",
       "      <td>Shooter</td>\n",
       "      <td>Movie</td>\n",
       "      <td>No</td>\n",
       "      <td>Aug 1, 2014</td>\n",
       "      <td>3</td>\n",
       "      <td>7</td>\n",
       "    </tr>\n",
       "    <tr>\n",
       "      <th>7098</th>\n",
       "      <td>2022-03-11</td>\n",
       "      <td>9</td>\n",
       "      <td>9</td>\n",
       "      <td>7</td>\n",
       "      <td>Shrek 2</td>\n",
       "      <td>Movie</td>\n",
       "      <td>No</td>\n",
       "      <td>Mar 1, 2022</td>\n",
       "      <td>10</td>\n",
       "      <td>33</td>\n",
       "    </tr>\n",
       "    <tr>\n",
       "      <th>7099</th>\n",
       "      <td>2022-03-11</td>\n",
       "      <td>10</td>\n",
       "      <td>10</td>\n",
       "      <td>-</td>\n",
       "      <td>Shrek</td>\n",
       "      <td>Movie</td>\n",
       "      <td>No</td>\n",
       "      <td>May 1, 2018</td>\n",
       "      <td>7</td>\n",
       "      <td>12</td>\n",
       "    </tr>\n",
       "  </tbody>\n",
       "</table>\n",
       "<p>2501 rows × 10 columns</p>\n",
       "</div>"
      ],
      "text/plain": [
       "           As of  Rank Year to Date Rank Last Week Rank             Title  \\\n",
       "2     2020-04-01     3                 3              2      All American   \n",
       "3     2020-04-01     4                 4              -      Blood Father   \n",
       "8     2020-04-01     9                 8              -           Badland   \n",
       "12    2020-04-02     3                 3              2      All American   \n",
       "15    2020-04-02     6                 4              -      Blood Father   \n",
       "...          ...   ...               ...            ...               ...   \n",
       "7090  2022-03-11     1                 2              -  The Last Kingdom   \n",
       "7092  2022-03-11     3                 3              -        Good Girls   \n",
       "7097  2022-03-11     8                 8              -           Shooter   \n",
       "7098  2022-03-11     9                 9              7           Shrek 2   \n",
       "7099  2022-03-11    10                10              -             Shrek   \n",
       "\n",
       "         Type Netflix Exclusive Netflix Release Date  Days In Top 10  \\\n",
       "2     TV Show                No         Mar 28, 2019               9   \n",
       "3       Movie                No         Mar 26, 2020               5   \n",
       "8       Movie                No         Mar 26, 2020               4   \n",
       "12    TV Show                No         Mar 28, 2019              10   \n",
       "15      Movie                No         Mar 26, 2020               6   \n",
       "...       ...               ...                  ...             ...   \n",
       "7090  TV Show                No         Jul 10, 2016              13   \n",
       "7092  TV Show                No          Jan 1, 2019              26   \n",
       "7097    Movie                No          Aug 1, 2014               3   \n",
       "7098    Movie                No          Mar 1, 2022              10   \n",
       "7099    Movie                No          May 1, 2018               7   \n",
       "\n",
       "      Viewership Score  \n",
       "2                   76  \n",
       "3                   30  \n",
       "8                   11  \n",
       "12                  84  \n",
       "15                  35  \n",
       "...                ...  \n",
       "7090                62  \n",
       "7092               149  \n",
       "7097                 7  \n",
       "7098                33  \n",
       "7099                12  \n",
       "\n",
       "[2501 rows x 10 columns]"
      ]
     },
     "execution_count": 34,
     "metadata": {},
     "output_type": "execute_result"
    }
   ],
   "source": [
    "df_nao_exclusivos = df_netflix[df_netflix[\"Netflix Exclusive\"] == \"No\"]\n",
    "df_nao_exclusivos\n"
   ]
  },
  {
   "cell_type": "markdown",
   "id": "2639eb4e",
   "metadata": {},
   "source": [
    "**Calcular os limites do boxplot (IQR) para detectar outliers:**"
   ]
  },
  {
   "cell_type": "code",
   "execution_count": 35,
   "id": "90aaae50",
   "metadata": {},
   "outputs": [],
   "source": [
    "q1 = df_nao_exclusivos[\"Viewership Score\"].quantile(0.25)\n",
    "q3 = df_nao_exclusivos[\"Viewership Score\"].quantile(0.75)\n",
    "iqr = q3 - q1\n",
    "\n",
    "limite_superior = q3 + 1.5 * iqr"
   ]
  },
  {
   "cell_type": "markdown",
   "id": "b62d2e00",
   "metadata": {},
   "source": [
    "**Títulos exclusivos:**"
   ]
  },
  {
   "cell_type": "code",
   "execution_count": 61,
   "id": "44016b36",
   "metadata": {},
   "outputs": [
    {
     "data": {
      "text/html": [
       "<div>\n",
       "<style scoped>\n",
       "    .dataframe tbody tr th:only-of-type {\n",
       "        vertical-align: middle;\n",
       "    }\n",
       "\n",
       "    .dataframe tbody tr th {\n",
       "        vertical-align: top;\n",
       "    }\n",
       "\n",
       "    .dataframe thead th {\n",
       "        text-align: right;\n",
       "    }\n",
       "</style>\n",
       "<table border=\"1\" class=\"dataframe\">\n",
       "  <thead>\n",
       "    <tr style=\"text-align: right;\">\n",
       "      <th></th>\n",
       "      <th>As of</th>\n",
       "      <th>Rank</th>\n",
       "      <th>Year to Date Rank</th>\n",
       "      <th>Last Week Rank</th>\n",
       "      <th>Title</th>\n",
       "      <th>Type</th>\n",
       "      <th>Netflix Exclusive</th>\n",
       "      <th>Netflix Release Date</th>\n",
       "      <th>Days In Top 10</th>\n",
       "      <th>Viewership Score</th>\n",
       "    </tr>\n",
       "  </thead>\n",
       "  <tbody>\n",
       "    <tr>\n",
       "      <th>0</th>\n",
       "      <td>2020-04-01</td>\n",
       "      <td>1</td>\n",
       "      <td>1</td>\n",
       "      <td>1</td>\n",
       "      <td>Tiger King: Murder, Mayhem …</td>\n",
       "      <td>TV Show</td>\n",
       "      <td>Yes</td>\n",
       "      <td>Mar 20, 2020</td>\n",
       "      <td>9</td>\n",
       "      <td>90</td>\n",
       "    </tr>\n",
       "    <tr>\n",
       "      <th>1</th>\n",
       "      <td>2020-04-01</td>\n",
       "      <td>2</td>\n",
       "      <td>2</td>\n",
       "      <td>-</td>\n",
       "      <td>Ozark</td>\n",
       "      <td>TV Show</td>\n",
       "      <td>Yes</td>\n",
       "      <td>Jul 21, 2017</td>\n",
       "      <td>5</td>\n",
       "      <td>45</td>\n",
       "    </tr>\n",
       "    <tr>\n",
       "      <th>4</th>\n",
       "      <td>2020-04-01</td>\n",
       "      <td>5</td>\n",
       "      <td>5</td>\n",
       "      <td>4</td>\n",
       "      <td>The Platform</td>\n",
       "      <td>Movie</td>\n",
       "      <td>Yes</td>\n",
       "      <td>Mar 20, 2020</td>\n",
       "      <td>9</td>\n",
       "      <td>55</td>\n",
       "    </tr>\n",
       "    <tr>\n",
       "      <th>5</th>\n",
       "      <td>2020-04-01</td>\n",
       "      <td>6</td>\n",
       "      <td>6</td>\n",
       "      <td>-</td>\n",
       "      <td>Car Masters: Rust to Riches</td>\n",
       "      <td>TV Show</td>\n",
       "      <td>Yes</td>\n",
       "      <td>Sep 14, 2018</td>\n",
       "      <td>4</td>\n",
       "      <td>14</td>\n",
       "    </tr>\n",
       "    <tr>\n",
       "      <th>6</th>\n",
       "      <td>2020-04-01</td>\n",
       "      <td>7</td>\n",
       "      <td>10</td>\n",
       "      <td>-</td>\n",
       "      <td>Unorthodox</td>\n",
       "      <td>TV Show</td>\n",
       "      <td>Yes</td>\n",
       "      <td>Mar 26, 2020</td>\n",
       "      <td>2</td>\n",
       "      <td>5</td>\n",
       "    </tr>\n",
       "    <tr>\n",
       "      <th>...</th>\n",
       "      <td>...</td>\n",
       "      <td>...</td>\n",
       "      <td>...</td>\n",
       "      <td>...</td>\n",
       "      <td>...</td>\n",
       "      <td>...</td>\n",
       "      <td>...</td>\n",
       "      <td>...</td>\n",
       "      <td>...</td>\n",
       "      <td>...</td>\n",
       "    </tr>\n",
       "    <tr>\n",
       "      <th>7091</th>\n",
       "      <td>2022-03-11</td>\n",
       "      <td>2</td>\n",
       "      <td>1</td>\n",
       "      <td>-</td>\n",
       "      <td>Pieces of Her</td>\n",
       "      <td>TV Show</td>\n",
       "      <td>Yes</td>\n",
       "      <td>Mar 4, 2022</td>\n",
       "      <td>7</td>\n",
       "      <td>68</td>\n",
       "    </tr>\n",
       "    <tr>\n",
       "      <th>7093</th>\n",
       "      <td>2022-03-11</td>\n",
       "      <td>4</td>\n",
       "      <td>4</td>\n",
       "      <td>3</td>\n",
       "      <td>Inventing Anna</td>\n",
       "      <td>TV Show</td>\n",
       "      <td>Yes</td>\n",
       "      <td>Feb 11, 2022</td>\n",
       "      <td>28</td>\n",
       "      <td>250</td>\n",
       "    </tr>\n",
       "    <tr>\n",
       "      <th>7094</th>\n",
       "      <td>2022-03-11</td>\n",
       "      <td>5</td>\n",
       "      <td>6</td>\n",
       "      <td>6</td>\n",
       "      <td>Love is Blind</td>\n",
       "      <td>TV Show</td>\n",
       "      <td>Yes</td>\n",
       "      <td>Feb 13, 2020</td>\n",
       "      <td>46</td>\n",
       "      <td>312</td>\n",
       "    </tr>\n",
       "    <tr>\n",
       "      <th>7095</th>\n",
       "      <td>2022-03-11</td>\n",
       "      <td>6</td>\n",
       "      <td>5</td>\n",
       "      <td>1</td>\n",
       "      <td>Worst Roommate Ever</td>\n",
       "      <td>TV Show</td>\n",
       "      <td>Yes</td>\n",
       "      <td>Mar 1, 2022</td>\n",
       "      <td>10</td>\n",
       "      <td>81</td>\n",
       "    </tr>\n",
       "    <tr>\n",
       "      <th>7096</th>\n",
       "      <td>2022-03-11</td>\n",
       "      <td>7</td>\n",
       "      <td>7</td>\n",
       "      <td>2</td>\n",
       "      <td>Vikings: Valhalla</td>\n",
       "      <td>TV Show</td>\n",
       "      <td>Yes</td>\n",
       "      <td>Feb 25, 2022</td>\n",
       "      <td>14</td>\n",
       "      <td>100</td>\n",
       "    </tr>\n",
       "  </tbody>\n",
       "</table>\n",
       "<p>4599 rows × 10 columns</p>\n",
       "</div>"
      ],
      "text/plain": [
       "           As of  Rank Year to Date Rank Last Week Rank  \\\n",
       "0     2020-04-01     1                 1              1   \n",
       "1     2020-04-01     2                 2              -   \n",
       "4     2020-04-01     5                 5              4   \n",
       "5     2020-04-01     6                 6              -   \n",
       "6     2020-04-01     7                10              -   \n",
       "...          ...   ...               ...            ...   \n",
       "7091  2022-03-11     2                 1              -   \n",
       "7093  2022-03-11     4                 4              3   \n",
       "7094  2022-03-11     5                 6              6   \n",
       "7095  2022-03-11     6                 5              1   \n",
       "7096  2022-03-11     7                 7              2   \n",
       "\n",
       "                             Title     Type Netflix Exclusive  \\\n",
       "0     Tiger King: Murder, Mayhem …  TV Show               Yes   \n",
       "1                            Ozark  TV Show               Yes   \n",
       "4                     The Platform    Movie               Yes   \n",
       "5      Car Masters: Rust to Riches  TV Show               Yes   \n",
       "6                       Unorthodox  TV Show               Yes   \n",
       "...                            ...      ...               ...   \n",
       "7091                 Pieces of Her  TV Show               Yes   \n",
       "7093                Inventing Anna  TV Show               Yes   \n",
       "7094                 Love is Blind  TV Show               Yes   \n",
       "7095           Worst Roommate Ever  TV Show               Yes   \n",
       "7096             Vikings: Valhalla  TV Show               Yes   \n",
       "\n",
       "     Netflix Release Date  Days In Top 10  Viewership Score  \n",
       "0            Mar 20, 2020               9                90  \n",
       "1            Jul 21, 2017               5                45  \n",
       "4            Mar 20, 2020               9                55  \n",
       "5            Sep 14, 2018               4                14  \n",
       "6            Mar 26, 2020               2                 5  \n",
       "...                   ...             ...               ...  \n",
       "7091          Mar 4, 2022               7                68  \n",
       "7093         Feb 11, 2022              28               250  \n",
       "7094         Feb 13, 2020              46               312  \n",
       "7095          Mar 1, 2022              10                81  \n",
       "7096         Feb 25, 2022              14               100  \n",
       "\n",
       "[4599 rows x 10 columns]"
      ]
     },
     "execution_count": 61,
     "metadata": {},
     "output_type": "execute_result"
    }
   ],
   "source": [
    "df_exclusivos = df_netflix[df_netflix[\"Netflix Exclusive\"] == \"Yes\"]\n",
    "df_exclusivos"
   ]
  },
  {
   "cell_type": "markdown",
   "id": "c78c6914",
   "metadata": {},
   "source": [
    "**Identificar os outliers:**"
   ]
  },
  {
   "cell_type": "code",
   "execution_count": 60,
   "id": "1ad9d0ba",
   "metadata": {},
   "outputs": [],
   "source": [
    "outliers = df_nao_exclusivos[df_nao_exclusivos[\"Viewership Score\"] > limite_superior]"
   ]
  },
  {
   "cell_type": "markdown",
   "id": "b634f192",
   "metadata": {},
   "source": [
    "**Quantos são?**"
   ]
  },
  {
   "cell_type": "code",
   "execution_count": 67,
   "id": "bee51a6a",
   "metadata": {},
   "outputs": [
    {
     "name": "stdout",
     "output_type": "stream",
     "text": [
      "Total de títulos não exclusivos: 2501\n",
      "Total de outliers: 363\n",
      "Proporção: 14.51%\n",
      "\n",
      "Média\n",
      "Média dos exclusivos: 88.66449228093063\n",
      "Média não exclusivos: 185.54258296681328\n",
      "Média de outliers: 882.5840220385675\n",
      "\n",
      "Mediana\n",
      "Mediana exclusivos: 53.0\n",
      "Mediana não exclusivos: 44.0\n",
      "Mediana de outliers: 872.0\n",
      "\n",
      "Moda\n",
      "Moda exclusivos: 0    10\n",
      "Name: Viewership Score, dtype: int64\n",
      "Moda não exclusivos: 0    4\n",
      "Name: Viewership Score, dtype: int64\n",
      "Moda de outliers: 0    415\n",
      "Name: Viewership Score, dtype: int64\n"
     ]
    }
   ],
   "source": [
    "print(f\"Total de títulos não exclusivos: {len(df_nao_exclusivos)}\")\n",
    "print(f\"Total de outliers: {len(outliers)}\")\n",
    "print(f\"Proporção: {(len(outliers) / len(df_nao_exclusivos)):.2%}\")\n",
    "\n",
    "## Média\n",
    "print(\"\\nMédia\")\n",
    "print(f\"Média dos exclusivos: {df_exclusivos[\"Viewership Score\"].mean()}\")\n",
    "print(f\"Média não exclusivos: {df_nao_exclusivos[\"Viewership Score\"].mean()}\")\n",
    "print(f\"Média de outliers: {outliers[\"Viewership Score\"].mean()}\")\n",
    "\n",
    "## Mediana\n",
    "print(\"\\nMediana\")\n",
    "print(f\"Mediana exclusivos: {df_exclusivos[\"Viewership Score\"].median()}\")\n",
    "print(f\"Mediana não exclusivos: {df_nao_exclusivos[\"Viewership Score\"].median()}\")\n",
    "print(f\"Mediana de outliers: {outliers[\"Viewership Score\"].median()}\")\n",
    "\n",
    "## Moda\n",
    "print(\"\\nModa\")\n",
    "print(f\"Moda exclusivos: {df_exclusivos[\"Viewership Score\"].mode()}\")\n",
    "print(f\"Moda não exclusivos: {df_nao_exclusivos[\"Viewership Score\"].mode()}\")\n",
    "print(f\"Moda de outliers: {outliers[\"Viewership Score\"].mode()}\")"
   ]
  },
  {
   "cell_type": "code",
   "execution_count": 55,
   "id": "373c226b",
   "metadata": {},
   "outputs": [
    {
     "name": "stdout",
     "output_type": "stream",
     "text": [
      "                 Métrica Títulos Não Exclusivos Outliers (Alta Visualização)\n",
      "0       Total de títulos                   2501                            -\n",
      "1      Total de outliers                      -                          363\n",
      "2  Proporção de outliers                      -                       14.51%\n",
      "3                  Média             185.542583                   882.584022\n",
      "4                Mediana                   44.0                        872.0\n",
      "5                   Moda                      4                          415\n"
     ]
    }
   ],
   "source": [
    "# Dados para a tabela\n",
    "dados_tabela = {\n",
    "    \"Métrica\": [\n",
    "        \"Total de títulos\",\n",
    "        \"Total de outliers\",\n",
    "        \"Proporção de outliers\",\n",
    "        \"Média\",\n",
    "        \"Mediana\",\n",
    "        \"Moda\"\n",
    "    ],\n",
    "    \"Títulos Não Exclusivos\": [\n",
    "        len(df_nao_exclusivos),\n",
    "        \"-\",\n",
    "        \"-\",\n",
    "        df_nao_exclusivos[\"Viewership Score\"].mean(),\n",
    "        df_nao_exclusivos[\"Viewership Score\"].median(),\n",
    "        df_nao_exclusivos[\"Viewership Score\"].mode().iloc[0] if not df_nao_exclusivos[\"Viewership Score\"].mode().empty else None\n",
    "    ],\n",
    "    \"Outliers (Alta Visualização)\": [\n",
    "        \"-\",\n",
    "        len(outliers),\n",
    "        f\"{(len(outliers) / len(df_nao_exclusivos)):.2%}\",\n",
    "        outliers[\"Viewership Score\"].mean(),\n",
    "        outliers[\"Viewership Score\"].median(),\n",
    "        outliers[\"Viewership Score\"].mode().iloc[0] if not outliers[\"Viewership Score\"].mode().empty else None\n",
    "    ]\n",
    "}\n",
    "\n",
    "# Criar DataFrame\n",
    "df_resumo = pd.DataFrame(dados_tabela)\n",
    "\n",
    "# Mostrar tabela\n",
    "print(df_resumo)"
   ]
  },
  {
   "cell_type": "markdown",
   "id": "bd2755e5",
   "metadata": {},
   "source": [
    "**Ver os títulos com maior score**"
   ]
  },
  {
   "cell_type": "code",
   "execution_count": 38,
   "id": "86e49a1d",
   "metadata": {},
   "outputs": [
    {
     "data": {
      "text/html": [
       "<div>\n",
       "<style scoped>\n",
       "    .dataframe tbody tr th:only-of-type {\n",
       "        vertical-align: middle;\n",
       "    }\n",
       "\n",
       "    .dataframe tbody tr th {\n",
       "        vertical-align: top;\n",
       "    }\n",
       "\n",
       "    .dataframe thead th {\n",
       "        text-align: right;\n",
       "    }\n",
       "</style>\n",
       "<table border=\"1\" class=\"dataframe\">\n",
       "  <thead>\n",
       "    <tr style=\"text-align: right;\">\n",
       "      <th></th>\n",
       "      <th>As of</th>\n",
       "      <th>Rank</th>\n",
       "      <th>Year to Date Rank</th>\n",
       "      <th>Last Week Rank</th>\n",
       "      <th>Title</th>\n",
       "      <th>Type</th>\n",
       "      <th>Netflix Exclusive</th>\n",
       "      <th>Netflix Release Date</th>\n",
       "      <th>Days In Top 10</th>\n",
       "      <th>Viewership Score</th>\n",
       "    </tr>\n",
       "  </thead>\n",
       "  <tbody>\n",
       "    <tr>\n",
       "      <th>6998</th>\n",
       "      <td>2022-03-01</td>\n",
       "      <td>9</td>\n",
       "      <td>-</td>\n",
       "      <td>-</td>\n",
       "      <td>Cocomelon</td>\n",
       "      <td>TV Show</td>\n",
       "      <td>No</td>\n",
       "      <td>Jun 1, 2020</td>\n",
       "      <td>428</td>\n",
       "      <td>1474</td>\n",
       "    </tr>\n",
       "    <tr>\n",
       "      <th>6959</th>\n",
       "      <td>2022-02-25</td>\n",
       "      <td>10</td>\n",
       "      <td>-</td>\n",
       "      <td>-</td>\n",
       "      <td>Cocomelon</td>\n",
       "      <td>TV Show</td>\n",
       "      <td>No</td>\n",
       "      <td>Jun 1, 2020</td>\n",
       "      <td>427</td>\n",
       "      <td>1472</td>\n",
       "    </tr>\n",
       "    <tr>\n",
       "      <th>6718</th>\n",
       "      <td>2022-02-01</td>\n",
       "      <td>9</td>\n",
       "      <td>-</td>\n",
       "      <td>7</td>\n",
       "      <td>Cocomelon</td>\n",
       "      <td>TV Show</td>\n",
       "      <td>No</td>\n",
       "      <td>Jun 1, 2020</td>\n",
       "      <td>426</td>\n",
       "      <td>1471</td>\n",
       "    </tr>\n",
       "    <tr>\n",
       "      <th>6687</th>\n",
       "      <td>2022-01-29</td>\n",
       "      <td>8</td>\n",
       "      <td>5</td>\n",
       "      <td>8</td>\n",
       "      <td>Cocomelon</td>\n",
       "      <td>TV Show</td>\n",
       "      <td>No</td>\n",
       "      <td>Jun 1, 2020</td>\n",
       "      <td>425</td>\n",
       "      <td>1469</td>\n",
       "    </tr>\n",
       "    <tr>\n",
       "      <th>6674</th>\n",
       "      <td>2022-01-28</td>\n",
       "      <td>5</td>\n",
       "      <td>6</td>\n",
       "      <td>-</td>\n",
       "      <td>Cocomelon</td>\n",
       "      <td>TV Show</td>\n",
       "      <td>No</td>\n",
       "      <td>Jun 1, 2020</td>\n",
       "      <td>424</td>\n",
       "      <td>1466</td>\n",
       "    </tr>\n",
       "    <tr>\n",
       "      <th>6665</th>\n",
       "      <td>2022-01-27</td>\n",
       "      <td>6</td>\n",
       "      <td>6</td>\n",
       "      <td>-</td>\n",
       "      <td>Cocomelon</td>\n",
       "      <td>TV Show</td>\n",
       "      <td>No</td>\n",
       "      <td>Jun 1, 2020</td>\n",
       "      <td>423</td>\n",
       "      <td>1460</td>\n",
       "    </tr>\n",
       "    <tr>\n",
       "      <th>6655</th>\n",
       "      <td>2022-01-26</td>\n",
       "      <td>6</td>\n",
       "      <td>7</td>\n",
       "      <td>-</td>\n",
       "      <td>Cocomelon</td>\n",
       "      <td>TV Show</td>\n",
       "      <td>No</td>\n",
       "      <td>Jun 1, 2020</td>\n",
       "      <td>422</td>\n",
       "      <td>1455</td>\n",
       "    </tr>\n",
       "    <tr>\n",
       "      <th>6646</th>\n",
       "      <td>2022-01-25</td>\n",
       "      <td>7</td>\n",
       "      <td>10</td>\n",
       "      <td>-</td>\n",
       "      <td>Cocomelon</td>\n",
       "      <td>TV Show</td>\n",
       "      <td>No</td>\n",
       "      <td>Jun 1, 2020</td>\n",
       "      <td>421</td>\n",
       "      <td>1450</td>\n",
       "    </tr>\n",
       "    <tr>\n",
       "      <th>6639</th>\n",
       "      <td>2022-01-24</td>\n",
       "      <td>10</td>\n",
       "      <td>-</td>\n",
       "      <td>-</td>\n",
       "      <td>Cocomelon</td>\n",
       "      <td>TV Show</td>\n",
       "      <td>No</td>\n",
       "      <td>Jun 1, 2020</td>\n",
       "      <td>420</td>\n",
       "      <td>1446</td>\n",
       "    </tr>\n",
       "    <tr>\n",
       "      <th>6617</th>\n",
       "      <td>2022-01-22</td>\n",
       "      <td>8</td>\n",
       "      <td>-</td>\n",
       "      <td>10</td>\n",
       "      <td>Cocomelon</td>\n",
       "      <td>TV Show</td>\n",
       "      <td>No</td>\n",
       "      <td>Jun 1, 2020</td>\n",
       "      <td>419</td>\n",
       "      <td>1445</td>\n",
       "    </tr>\n",
       "  </tbody>\n",
       "</table>\n",
       "</div>"
      ],
      "text/plain": [
       "           As of  Rank Year to Date Rank Last Week Rank      Title     Type  \\\n",
       "6998  2022-03-01     9                 -              -  Cocomelon  TV Show   \n",
       "6959  2022-02-25    10                 -              -  Cocomelon  TV Show   \n",
       "6718  2022-02-01     9                 -              7  Cocomelon  TV Show   \n",
       "6687  2022-01-29     8                 5              8  Cocomelon  TV Show   \n",
       "6674  2022-01-28     5                 6              -  Cocomelon  TV Show   \n",
       "6665  2022-01-27     6                 6              -  Cocomelon  TV Show   \n",
       "6655  2022-01-26     6                 7              -  Cocomelon  TV Show   \n",
       "6646  2022-01-25     7                10              -  Cocomelon  TV Show   \n",
       "6639  2022-01-24    10                 -              -  Cocomelon  TV Show   \n",
       "6617  2022-01-22     8                 -             10  Cocomelon  TV Show   \n",
       "\n",
       "     Netflix Exclusive Netflix Release Date  Days In Top 10  Viewership Score  \n",
       "6998                No          Jun 1, 2020             428              1474  \n",
       "6959                No          Jun 1, 2020             427              1472  \n",
       "6718                No          Jun 1, 2020             426              1471  \n",
       "6687                No          Jun 1, 2020             425              1469  \n",
       "6674                No          Jun 1, 2020             424              1466  \n",
       "6665                No          Jun 1, 2020             423              1460  \n",
       "6655                No          Jun 1, 2020             422              1455  \n",
       "6646                No          Jun 1, 2020             421              1450  \n",
       "6639                No          Jun 1, 2020             420              1446  \n",
       "6617                No          Jun 1, 2020             419              1445  "
      ]
     },
     "execution_count": 38,
     "metadata": {},
     "output_type": "execute_result"
    }
   ],
   "source": [
    "outliers.sort_values(\"Viewership Score\", ascending=False).head(10)"
   ]
  },
  {
   "cell_type": "markdown",
   "id": "f650a75e",
   "metadata": {},
   "source": [
    "**Ver gráfico de distribuição dos outliers**"
   ]
  },
  {
   "cell_type": "code",
   "execution_count": 39,
   "id": "a2e6553e",
   "metadata": {},
   "outputs": [
    {
     "data": {
      "image/png": "[encoded data removed]",
      "text/plain": [
       "<Figure size 800x500 with 1 Axes>"
      ]
     },
     "metadata": {},
     "output_type": "display_data"
    }
   ],
   "source": [
    "outliers[\"Viewership Score\"].hist(bins=30, figsize=(8,5))\n",
    "plt.title(\"Distribuição dos Viewership Scores dos Outliers (Não Exclusivos)\")\n",
    "plt.xlabel(\"Viewership Score\")\n",
    "plt.ylabel(\"Frequência\")\n",
    "plt.grid(True)\n",
    "plt.show()"
   ]
  },
  {
   "cell_type": "markdown",
   "id": "a889d885",
   "metadata": {},
   "source": [
    "**Comparar a média com e sem os outliers:**"
   ]
  },
  {
   "cell_type": "code",
   "execution_count": 56,
   "id": "6abd718b",
   "metadata": {},
   "outputs": [
    {
     "name": "stdout",
     "output_type": "stream",
     "text": [
      "Média sem outliers: 67.1955098222638\n"
     ]
    }
   ],
   "source": [
    "sem_outliers = df_nao_exclusivos[df_nao_exclusivos[\"Viewership Score\"] <= limite_superior]\n",
    "media_sem_outliers = sem_outliers[\"Viewership Score\"].mean()\n",
    "print(f\"Média sem outliers: {media_sem_outliers}\")"
   ]
  },
  {
   "cell_type": "markdown",
   "id": "f244fe1e",
   "metadata": {},
   "source": [
    "**Visualizar com histograma com e sem outliers:**"
   ]
  },
  {
   "cell_type": "code",
   "execution_count": 57,
   "id": "95e55410",
   "metadata": {},
   "outputs": [
    {
     "data": {
      "image/png": "[encoded data removed]",
      "text/plain": [
       "<Figure size 1200x500 with 2 Axes>"
      ]
     },
     "metadata": {},
     "output_type": "display_data"
    }
   ],
   "source": [
    "plt.figure(figsize=(12, 5))\n",
    "\n",
    "plt.subplot(1, 2, 1)\n",
    "df_nao_exclusivos[\"Viewership Score\"].hist(bins=30)\n",
    "plt.title(\"Com outliers\")\n",
    "plt.xlabel(\"Score\")\n",
    "\n",
    "plt.subplot(1, 2, 2)\n",
    "sem_outliers[\"Viewership Score\"].hist(bins=30)\n",
    "plt.title(\"Sem outliers\")\n",
    "plt.xlabel(\"Score\")\n",
    "\n",
    "plt.tight_layout()\n",
    "plt.show()"
   ]
  }
 ],
 "metadata": {
  "kernelspec": {
   "display_name": "ead-m3-netflix-JDLpJGIH",
   "language": "python",
   "name": "python3"
  },
  "language_info": {
   "codemirror_mode": {
    "name": "ipython",
    "version": 3
   },
   "file_extension": ".py",
   "mimetype": "text/x-python",
   "name": "python",
   "nbconvert_exporter": "python",
   "pygments_lexer": "ipython3",
   "version": "3.12.11"
  }
 },
 "nbformat": 4,
 "nbformat_minor": 5
}
